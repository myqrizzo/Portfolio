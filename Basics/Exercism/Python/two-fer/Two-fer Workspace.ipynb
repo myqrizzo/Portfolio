{
 "cells": [
  {
   "cell_type": "code",
   "execution_count": null,
   "metadata": {},
   "outputs": [],
   "source": [
    "# %load two_fer.py\n",
    "def two_fer(name=\"you\"):\n",
    "    return f'One for {name}, one for me.'"
   ]
  },
  {
   "cell_type": "code",
   "execution_count": null,
   "metadata": {},
   "outputs": [],
   "source": [
    "%%writefile two_fer.py\n",
    "def two_fer(name=\"you\"):\n",
    "    return f'One for {name}, one for me.'"
   ]
  },
  {
   "cell_type": "code",
   "execution_count": null,
   "metadata": {},
   "outputs": [],
   "source": [
    "two_fer(\"Bob\")"
   ]
  },
  {
   "cell_type": "code",
   "execution_count": null,
   "metadata": {},
   "outputs": [],
   "source": [
    "# %load two_fer_test.py\n",
    "import unittest\n",
    "\n",
    "from two_fer import two_fer\n",
    "\n",
    "\n",
    "# Tests adapted from `problem-specifications//canonical-data.json` @ v1.2.0\n",
    "\n",
    "class TwoFerTest(unittest.TestCase):\n",
    "    def test_no_name_given(self):\n",
    "        self.assertEqual(two_fer(), 'One for you, one for me.')\n",
    "\n",
    "    def test_a_name_given(self):\n",
    "        self.assertEqual(two_fer(\"Alice\"), \"One for Alice, one for me.\")\n",
    "\n",
    "    def test_another_name_given(self):\n",
    "        self.assertEqual(two_fer(\"Bob\"), \"One for Bob, one for me.\")\n",
    "\n",
    "\n",
    "if __name__ == '__main__':\n",
    "    unittest.main()\n"
   ]
  },
  {
   "cell_type": "code",
   "execution_count": 1,
   "metadata": {
    "scrolled": true
   },
   "outputs": [
    {
     "name": "stderr",
     "output_type": "stream",
     "text": [
      "...\n",
      "----------------------------------------------------------------------\n",
      "Ran 3 tests in 0.011s\n",
      "\n",
      "OK\n"
     ]
    }
   ],
   "source": [
    "%run two_fer_test.py"
   ]
  },
  {
   "cell_type": "code",
   "execution_count": null,
   "metadata": {},
   "outputs": [],
   "source": []
  }
 ],
 "metadata": {
  "kernelspec": {
   "display_name": "Python 3",
   "language": "python",
   "name": "python3"
  },
  "language_info": {
   "codemirror_mode": {
    "name": "ipython",
    "version": 3
   },
   "file_extension": ".py",
   "mimetype": "text/x-python",
   "name": "python",
   "nbconvert_exporter": "python",
   "pygments_lexer": "ipython3",
   "version": "3.7.2"
  }
 },
 "nbformat": 4,
 "nbformat_minor": 2
}
