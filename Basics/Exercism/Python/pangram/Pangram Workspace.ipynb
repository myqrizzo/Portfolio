{
 "cells": [
  {
   "cell_type": "code",
   "execution_count": null,
   "metadata": {},
   "outputs": [],
   "source": [
    "# %load pangram.py\n",
    "def is_pangram(sentence):\n",
    "    alphabet = ['a','b','c','d','e','f','g','h','i','j','k','l','m','n','o','p','q','r','s','t','u','v','w','x','y','z']\n",
    "    sentence = ''.join(letter for letter in sentence.lower() if 'a' <= letter <= 'z')\n",
    "    return 0 not in [character in sentence for character in alphabet]\n"
   ]
  },
  {
   "cell_type": "code",
   "execution_count": null,
   "metadata": {},
   "outputs": [],
   "source": [
    "%%writefile pangram.py\n",
    "def is_pangram(sentence):\n",
    "    alphabet = ['a','b','c','d','e','f','g','h','i','j','k','l','m','n','o','p','q','r','s','t','u','v','w','x','y','z']\n",
    "    sentence = ''.join(letter for letter in sentence.lower() if 'a' <= letter <= 'z')\n",
    "    return 0 not in [character in sentence for character in alphabet]"
   ]
  },
  {
   "cell_type": "code",
   "execution_count": null,
   "metadata": {
    "scrolled": true
   },
   "outputs": [],
   "source": [
    "## experimentation space\n",
    "sentence = '\"Five quacking Zephyrs jolt my wax bed.\"'\n",
    "sentence = ''.join(letter for letter in sentence.lower() if 'a' <= letter <= 'z')\n",
    "#sentence = list(x)\n",
    "#sentence = 'abcdefghijklmnopqrstuvwxyz'\n",
    "#0 not in [c in z for c in y]\n",
    "alphabet = ['a','b','c','d','e','f','g','h','i','j','k','l','m','n','o','p','q','r','s','t','u','v','w','x','y','z']\n",
    "#sentence = ''.join(letter for letter in sentence.lower() if 'a' <= letter <= 'z')\n",
    "0 not in [character in sentence for character in alphabet]"
   ]
  },
  {
   "cell_type": "code",
   "execution_count": null,
   "metadata": {},
   "outputs": [],
   "source": [
    "# %load pangram_test.py\n",
    "import unittest\n",
    "\n",
    "from pangram import is_pangram\n",
    "\n",
    "\n",
    "# Tests adapted from `problem-specifications//canonical-data.json` @ v1.4.1\n",
    "\n",
    "class PangramTest(unittest.TestCase):\n",
    "\n",
    "    def test_sentence_empty(self):\n",
    "        self.assertIs(is_pangram(''), False)\n",
    "\n",
    "    def test_recognizes_a_perfect_lower_case_pangram(self):\n",
    "        self.assertIs(is_pangram('abcdefghijklmnopqrstuvwxyz'), True)\n",
    "\n",
    "    def test_pangram_with_only_lower_case(self):\n",
    "        self.assertIs(\n",
    "            is_pangram('the quick brown fox jumps over the lazy dog'),\n",
    "            True)\n",
    "\n",
    "    def test_missing_character_x(self):\n",
    "        self.assertIs(\n",
    "            is_pangram('a quick movement of the enemy will '\n",
    "                       'jeopardize five gunboats'),\n",
    "            False)\n",
    "\n",
    "    def test_another_missing_character(self):\n",
    "        self.assertIs(is_pangram('five boxing wizards jump quickly at it'),\n",
    "                      False)\n",
    "\n",
    "    def test_pangram_with_underscores(self):\n",
    "        self.assertIs(\n",
    "            is_pangram('the_quick_brown_fox_jumps_over_the_lazy_dog'),\n",
    "            True)\n",
    "\n",
    "    def test_pangram_with_numbers(self):\n",
    "        self.assertIs(\n",
    "            is_pangram('the 1 quick brown fox jumps over the 2 lazy dogs'),\n",
    "            True)\n",
    "\n",
    "    def test_missing_letters_replaced_by_numbers(self):\n",
    "        self.assertIs(\n",
    "            is_pangram('7h3 qu1ck brown fox jumps ov3r 7h3 lazy dog'),\n",
    "            False)\n",
    "\n",
    "    def test_pangram_with_mixedcase_and_punctuation(self):\n",
    "        self.assertIs(\n",
    "            is_pangram('\"Five quacking Zephyrs jolt my wax bed.\"'),\n",
    "            True)\n",
    "\n",
    "    def test_upper_and_lower_case_versions_of_the_same_character(self):\n",
    "        self.assertIs(\n",
    "            is_pangram('the quick brown fox jumped over the lazy FX'),\n",
    "            False)\n",
    "\n",
    "\n",
    "if __name__ == '__main__':\n",
    "    unittest.main()\n"
   ]
  },
  {
   "cell_type": "code",
   "execution_count": 1,
   "metadata": {},
   "outputs": [
    {
     "name": "stderr",
     "output_type": "stream",
     "text": [
      "..........\n",
      "----------------------------------------------------------------------\n",
      "Ran 10 tests in 0.031s\n",
      "\n",
      "OK\n"
     ]
    }
   ],
   "source": [
    "%run pangram_test.py"
   ]
  },
  {
   "cell_type": "code",
   "execution_count": null,
   "metadata": {},
   "outputs": [],
   "source": []
  }
 ],
 "metadata": {
  "kernelspec": {
   "display_name": "Python 3",
   "language": "python",
   "name": "python3"
  },
  "language_info": {
   "codemirror_mode": {
    "name": "ipython",
    "version": 3
   },
   "file_extension": ".py",
   "mimetype": "text/x-python",
   "name": "python",
   "nbconvert_exporter": "python",
   "pygments_lexer": "ipython3",
   "version": "3.7.2"
  }
 },
 "nbformat": 4,
 "nbformat_minor": 2
}
