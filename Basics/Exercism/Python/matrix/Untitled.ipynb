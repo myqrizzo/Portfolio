{
 "cells": [
  {
   "cell_type": "code",
   "execution_count": 51,
   "metadata": {
    "collapsed": true
   },
   "outputs": [],
   "source": [
    "class Matrix:\n",
    "    def __init__(self, matrix_string):\n",
    "        matrix_temp = matrix_string.split(\"\\n\")\n",
    "        self.matrix = []\n",
    "        for index in range(0,len(matrix_temp)):\n",
    "            self.matrix.append(list(map(int, matrix_temp[index].split(\" \"))))\n",
    "\n",
    "    def row(self, index):\n",
    "        return self.matrix[index-1] \n",
    "    \n",
    "    def column(self, index):\n",
    "        col_matrix = []\n",
    "        for row in self.matrix:\n",
    "            col_matrix.append(row[index-1])  \n",
    "        return  col_matrix  "
   ]
  },
  {
   "cell_type": "code",
   "execution_count": 52,
   "metadata": {
    "collapsed": false
   },
   "outputs": [
    {
     "name": "stdout",
     "output_type": "stream",
     "text": [
      "[3, 1, 800]\n"
     ]
    }
   ],
   "source": [
    " def test_extract_column_where_numbers_have_different_widths():\n",
    "        matrix = Matrix(\"89 1903 3\\n18 3 1\\n9 4 800\")\n",
    "        return matrix.column(3)\n",
    "    \n",
    "print(test_extract_column_where_numbers_have_different_widths())"
   ]
  },
  {
   "cell_type": "code",
   "execution_count": null,
   "metadata": {
    "collapsed": true
   },
   "outputs": [],
   "source": []
  }
 ],
 "metadata": {
  "kernelspec": {
   "display_name": "Python 2",
   "language": "python",
   "name": "python2"
  },
  "language_info": {
   "codemirror_mode": {
    "name": "ipython",
    "version": 2
   },
   "file_extension": ".py",
   "mimetype": "text/x-python",
   "name": "python",
   "nbconvert_exporter": "python",
   "pygments_lexer": "ipython2",
   "version": "2.7.15"
  }
 },
 "nbformat": 4,
 "nbformat_minor": 0
}
