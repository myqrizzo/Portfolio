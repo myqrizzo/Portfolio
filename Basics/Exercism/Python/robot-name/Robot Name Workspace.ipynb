{
 "cells": [
  {
   "cell_type": "code",
   "execution_count": null,
   "metadata": {},
   "outputs": [],
   "source": [
    "# %load robot_name.py\n",
    "import random\n",
    "import string \n",
    "\n",
    "class Robot(object):\n",
    "    def __init__(self):\n",
    "        self.name = ''.join(random.choice(string.ascii_uppercase) for i in range(2))+''.join(random.choice(string.digits) for j in range(3))\n",
    "\n",
    "    def reset(self):\n",
    "        self.name = ''.join(random.choice(string.ascii_uppercase) for i in range(2))+''.join(random.choice(string.digits) for j in range(3))\n"
   ]
  },
  {
   "cell_type": "code",
   "execution_count": null,
   "metadata": {},
   "outputs": [],
   "source": [
    "%%writefile robot_name.py\n",
    "import random\n",
    "import string \n",
    "\n",
    "class Robot(object):\n",
    "    def __init__(self):\n",
    "        Robot.reset(self)\n",
    "        \n",
    "    def reset(self):\n",
    "        seed = \"Totally Random.\"\n",
    "        random.seed(seed)\n",
    "        self.name = ''.join(random.choice(string.ascii_uppercase) for i in range(2))+''.join(random.choice(string.digits) for j in range(3))\n"
   ]
  },
  {
   "cell_type": "code",
   "execution_count": 5,
   "metadata": {},
   "outputs": [
    {
     "data": {
      "text/plain": [
       "'OQ708'"
      ]
     },
     "execution_count": 5,
     "metadata": {},
     "output_type": "execute_result"
    }
   ],
   "source": [
    "#experimentation space\n",
    "from robot_name import Robot\n",
    "testRobot = Robot()\n",
    "testRobot.name"
   ]
  },
  {
   "cell_type": "code",
   "execution_count": 4,
   "metadata": {},
   "outputs": [
    {
     "data": {
      "text/plain": [
       "'OQ708'"
      ]
     },
     "execution_count": 4,
     "metadata": {},
     "output_type": "execute_result"
    }
   ],
   "source": [
    "testRobot.reset()\n",
    "testRobot.name"
   ]
  },
  {
   "cell_type": "code",
   "execution_count": null,
   "metadata": {},
   "outputs": [],
   "source": [
    "# %load robot_name_test.py\n",
    "import unittest\n",
    "import random\n",
    "\n",
    "from robot_name import Robot\n",
    "\n",
    "\n",
    "class RobotNameTest(unittest.TestCase):\n",
    "    # assertRegex() alias to adress DeprecationWarning\n",
    "    # assertRegexpMatches got renamed in version 3.2\n",
    "    if not hasattr(unittest.TestCase, \"assertRegex\"):\n",
    "        assertRegex = unittest.TestCase.assertRegexpMatches\n",
    "\n",
    "    name_re = r'^[A-Z]{2}\\d{3}$'\n",
    "\n",
    "    def test_has_name(self):\n",
    "        self.assertRegex(Robot().name, self.name_re)\n",
    "\n",
    "    def test_name_sticks(self):\n",
    "        robot = Robot()\n",
    "        robot.name\n",
    "        self.assertEqual(robot.name, robot.name)\n",
    "\n",
    "    def test_different_robots_have_different_names(self):\n",
    "        self.assertNotEqual(\n",
    "            Robot().name,\n",
    "            Robot().name\n",
    "        )\n",
    "\n",
    "    def test_reset_name(self):\n",
    "        # Set a seed\n",
    "        seed = \"Totally random.\"\n",
    "\n",
    "        # Initialize RNG using the seed\n",
    "        random.seed(seed)\n",
    "\n",
    "        # Call the generator\n",
    "        robot = Robot()\n",
    "        name = robot.name\n",
    "\n",
    "        # Reinitialize RNG using seed\n",
    "        random.seed(seed)\n",
    "\n",
    "        # Call the generator again\n",
    "        robot.reset()\n",
    "        name2 = robot.name\n",
    "        self.assertNotEqual(name, name2)\n",
    "        self.assertRegex(name2, self.name_re)\n",
    "\n",
    "\n",
    "if __name__ == '__main__':\n",
    "    unittest.main()\n"
   ]
  },
  {
   "cell_type": "code",
   "execution_count": null,
   "metadata": {},
   "outputs": [],
   "source": [
    "%run robot_name_test.py"
   ]
  },
  {
   "cell_type": "code",
   "execution_count": null,
   "metadata": {},
   "outputs": [],
   "source": []
  }
 ],
 "metadata": {
  "kernelspec": {
   "display_name": "Python 3",
   "language": "python",
   "name": "python3"
  },
  "language_info": {
   "codemirror_mode": {
    "name": "ipython",
    "version": 3
   },
   "file_extension": ".py",
   "mimetype": "text/x-python",
   "name": "python",
   "nbconvert_exporter": "python",
   "pygments_lexer": "ipython3",
   "version": "3.7.2"
  }
 },
 "nbformat": 4,
 "nbformat_minor": 2
}
