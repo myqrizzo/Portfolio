{
 "cells": [
  {
   "cell_type": "code",
   "execution_count": null,
   "metadata": {},
   "outputs": [],
   "source": [
    "# %load armstrong_numbers.py\n",
    "def is_armstrong(number):\n",
    "    numToList = list(map(int, str(number)))\n",
    "    return number == sum(list(map(lambda x:pow(x,len(numToList)),numToList)))"
   ]
  },
  {
   "cell_type": "code",
   "execution_count": null,
   "metadata": {},
   "outputs": [],
   "source": [
    "%%writefile armstrong_numbers.py\n",
    "def is_armstrong(number):\n",
    "    numToList = list(map(int, str(number)))\n",
    "    return number == sum(list(map(lambda x:pow(x,len(numToList)),numToList)))"
   ]
  },
  {
   "cell_type": "code",
   "execution_count": null,
   "metadata": {},
   "outputs": [],
   "source": [
    "#experimentation workspace\n",
    "x = 153\n",
    "z = list(map(int, str(x)))\n",
    "z = sum(list(map(lambda x:pow(x,len(z)),z)))\n",
    "print(z)"
   ]
  },
  {
   "cell_type": "code",
   "execution_count": null,
   "metadata": {},
   "outputs": [],
   "source": [
    "# %load armstrong_numbers_test.py\n",
    "import unittest\n",
    "\n",
    "from armstrong_numbers import is_armstrong\n",
    "\n",
    "\n",
    "# Tests adapted from `problem-specifications//canonical-data.json` @ v1.0.0\n",
    "\n",
    "class ArmstrongNumbersTest(unittest.TestCase):\n",
    "\n",
    "    def test_single_digit_numbers_are_armstrong_numbers(self):\n",
    "        self.assertIs(is_armstrong(5), True)\n",
    "\n",
    "    def test_there_are_no_two_digit_armstrong_numbers(self):\n",
    "        self.assertIs(is_armstrong(10), False)\n",
    "\n",
    "    def test_three_digit_number_that_is_an_armstrong_number(self):\n",
    "        self.assertIs(is_armstrong(153), True)\n",
    "\n",
    "    def test_three_digit_number_that_is_not_an_armstrong_number(self):\n",
    "        self.assertIs(is_armstrong(100), False)\n",
    "\n",
    "    def test_four_digit_number_that_is_an_armstrong_number(self):\n",
    "        self.assertIs(is_armstrong(9474), True)\n",
    "\n",
    "    def test_four_digit_number_that_is_not_an_armstrong_number(self):\n",
    "        self.assertIs(is_armstrong(9475), False)\n",
    "\n",
    "    def test_seven_digit_number_that_is_an_armstrong_number(self):\n",
    "        self.assertIs(is_armstrong(9926315), True)\n",
    "\n",
    "    def test_seven_digit_number_that_is_not_an_armstrong_number(self):\n",
    "        self.assertIs(is_armstrong(9926314), False)\n",
    "\n",
    "\n",
    "if __name__ == '__main__':\n",
    "    unittest.main()\n"
   ]
  },
  {
   "cell_type": "code",
   "execution_count": 1,
   "metadata": {},
   "outputs": [
    {
     "name": "stderr",
     "output_type": "stream",
     "text": [
      "........\n",
      "----------------------------------------------------------------------\n",
      "Ran 8 tests in 0.018s\n",
      "\n",
      "OK\n"
     ]
    }
   ],
   "source": [
    "%run armstrong_numbers_test.py"
   ]
  },
  {
   "cell_type": "code",
   "execution_count": 9,
   "metadata": {},
   "outputs": [
    {
     "name": "stdout",
     "output_type": "stream",
     "text": [
      "0.41600000000000004\n",
      "0.6316544000000001\n",
      "0.604934509297664\n",
      "0.621370746771992\n",
      "0.6116997687528234\n",
      "0.617560220317471\n",
      "0.6140669459571599\n",
      "0.6161707027840165\n",
      "0.614911356318136\n",
      "0.6156679884917287\n"
     ]
    }
   ],
   "source": [
    "r = 2.6\n",
    "xi = 0.2\n",
    "n = 10\n",
    "for i in range(0,n):\n",
    "    xi = r*xi*(1-xi)\n",
    "    print(xi)"
   ]
  },
  {
   "cell_type": "code",
   "execution_count": null,
   "metadata": {},
   "outputs": [],
   "source": []
  }
 ],
 "metadata": {
  "kernelspec": {
   "display_name": "Python 3",
   "language": "python",
   "name": "python3"
  },
  "language_info": {
   "codemirror_mode": {
    "name": "ipython",
    "version": 3
   },
   "file_extension": ".py",
   "mimetype": "text/x-python",
   "name": "python",
   "nbconvert_exporter": "python",
   "pygments_lexer": "ipython3",
   "version": "3.7.2"
  }
 },
 "nbformat": 4,
 "nbformat_minor": 2
}
