{
 "cells": [
  {
   "cell_type": "code",
   "execution_count": null,
   "metadata": {},
   "outputs": [],
   "source": [
    "# %load protein_translation.py\n",
    "ribosome = dict(AUG = 'Methionine', UUU = 'Phenylalanine', UUC = 'Phenylalanine', UUA = 'Leucine', UUG = 'Leucine', UCU = 'Serine', UCC = 'Serine', UCA = 'Serine', UCG = 'Serine', UAU = 'Tyrosine', UAC = 'Tyrosine', UGU = 'Cysteine', UGC = 'Cysteine', UGG = 'Tryptophan', UAA = 'STOP', UAG = 'STOP', UGA = 'STOP')\n",
    "\n",
    "def proteins(strand):\n",
    "    codons = [strand[i:i+3] for i in range(0, len(strand), 3)]\n",
    "    proteins = []\n",
    "    for codon in codons:\n",
    "        if ribosome[codon] =='STOP':\n",
    "           #proteins.append([])\n",
    "           break\n",
    "        else:\n",
    "            proteins.append(ribosome[codon])\n",
    "    return proteins\n"
   ]
  },
  {
   "cell_type": "code",
   "execution_count": null,
   "metadata": {},
   "outputs": [],
   "source": [
    "%%writefile protein_translation.py\n",
    "ribosome = dict(AUG = 'Methionine', UUU = 'Phenylalanine', UUC = 'Phenylalanine', UUA = 'Leucine', UUG = 'Leucine', UCU = 'Serine', UCC = 'Serine', UCA = 'Serine', UCG = 'Serine', UAU = 'Tyrosine', UAC = 'Tyrosine', UGU = 'Cysteine', UGC = 'Cysteine', UGG = 'Tryptophan', UAA = 'STOP', UAG = 'STOP', UGA = 'STOP')\n",
    "\n",
    "def proteins(strand):\n",
    "    codons = [strand[i:i+3] for i in range(0, len(strand), 3)]\n",
    "    proteins = []\n",
    "    for codon in codons:\n",
    "        if ribosome[codon] =='STOP':\n",
    "            break\n",
    "        else:\n",
    "            proteins.append(ribosome[codon])\n",
    "    return proteins"
   ]
  },
  {
   "cell_type": "code",
   "execution_count": null,
   "metadata": {},
   "outputs": [],
   "source": [
    "#experimentation space\n",
    "strand = 'UAUUAC'\n",
    "\n",
    "codons = [strand[i:i+3] for i in range(0, len(strand), 3)]\n",
    "print(codons)\n",
    "ribosome = dict(AUG = 'Methionine', UUU = 'Phenylalanine', UUC = 'Phenylalanine', UUA = 'Leucine', UUG = 'Leucine', UCU = 'Serine', UCC = 'Serine', UCA = 'Serine', UCG = 'Serine', UAU = 'Tyrosine', UAC = 'Tyrosine', UGU = 'Cysteine', UGC = 'Cysteine', UGG = 'Tryptophan', UAA = 'STOP', UAG = 'STOP', UGA = 'STOP')\n",
    "proteins = []\n",
    "for codon in codons:\n",
    "    if ribosome[codon] =='STOP':\n",
    "        #proteins.append([])\n",
    "        break\n",
    "    else:\n",
    "        proteins.append(ribosome[codon])\n",
    "print(proteins)\n",
    "#if ribosome[codon] == 'STOP': break"
   ]
  },
  {
   "cell_type": "code",
   "execution_count": null,
   "metadata": {},
   "outputs": [],
   "source": [
    "# %load protein_translation_test.py\n",
    "import unittest\n",
    "\n",
    "from protein_translation import proteins\n",
    "\n",
    "\n",
    "# Tests adapted from `problem-specifications//canonical-data.json` @ v1.1.1\n",
    "\n",
    "class ProteinTranslationTest(unittest.TestCase):\n",
    "\n",
    "    def test_AUG_translates_to_methionine(self):\n",
    "        self.assertEqual(proteins('AUG'), ['Methionine'])\n",
    "\n",
    "    def test_identifies_Phenylalanine_codons(self):\n",
    "        for codon in ['UUU', 'UUC']:\n",
    "            self.assertEqual(proteins(codon), ['Phenylalanine'])\n",
    "\n",
    "    def test_identifies_Leucine_codons(self):\n",
    "        for codon in ['UUA', 'UUG']:\n",
    "            self.assertEqual(proteins(codon), ['Leucine'])\n",
    "\n",
    "    def test_identifies_Serine_codons(self):\n",
    "        for codon in ['UCU', 'UCC', 'UCA', 'UCG']:\n",
    "            self.assertEqual(proteins(codon), ['Serine'])\n",
    "\n",
    "    def test_identifies_Tyrosine_codons(self):\n",
    "        for codon in ['UAU', 'UAC']:\n",
    "            self.assertEqual(proteins(codon), ['Tyrosine'])\n",
    "\n",
    "    def test_identifies_Cysteine_codons(self):\n",
    "        for codon in ['UGU', 'UGC']:\n",
    "            self.assertEqual(proteins(codon), ['Cysteine'])\n",
    "\n",
    "    def test_identifies_Tryptophan_codons(self):\n",
    "        self.assertEqual(proteins('UGG'), ['Tryptophan'])\n",
    "\n",
    "    def test_identifies_stop_codons(self):\n",
    "        for codon in ['UAA', 'UAG', 'UGA']:\n",
    "            self.assertEqual(proteins(codon), [])\n",
    "\n",
    "    def test_translates_rna_strand_into_correct_protein_list(self):\n",
    "        strand = 'AUGUUUUGG'\n",
    "        expected = ['Methionine', 'Phenylalanine', 'Tryptophan']\n",
    "        self.assertEqual(proteins(strand), expected)\n",
    "\n",
    "    def test_stops_translation_if_stop_codon_at_beginning_of_sequence(self):\n",
    "        strand = 'UAGUGG'\n",
    "        expected = []\n",
    "        self.assertEqual(proteins(strand), expected)\n",
    "\n",
    "    def test_stops_translation_if_stop_codon_at_end_of_two_codon_sequence(\n",
    "            self):\n",
    "        strand = 'UGGUAG'\n",
    "        expected = ['Tryptophan']\n",
    "        self.assertEqual(proteins(strand), expected)\n",
    "\n",
    "    def test_stops_translation_if_stop_codon_at_end_of_three_codon_sequence(\n",
    "            self):\n",
    "        strand = 'AUGUUUUAA'\n",
    "        expected = ['Methionine', 'Phenylalanine']\n",
    "        self.assertEqual(proteins(strand), expected)\n",
    "\n",
    "    def test_stops_translation_if_stop_codon_in_middle_of_three_codon_sequence(\n",
    "            self):\n",
    "        strand = 'UGGUAGUGG'\n",
    "        expected = ['Tryptophan']\n",
    "        self.assertEqual(proteins(strand), expected)\n",
    "\n",
    "    def test_stops_translation_if_stop_codon_in_middle_of_six_codon_sequence(\n",
    "            self):\n",
    "        strand = 'UGGUGUUAUUAAUGGUUU'\n",
    "        expected = ['Tryptophan', 'Cysteine', 'Tyrosine']\n",
    "        self.assertEqual(proteins(strand), expected)\n",
    "\n",
    "\n",
    "if __name__ == '__main__':\n",
    "    unittest.main()\n"
   ]
  },
  {
   "cell_type": "code",
   "execution_count": 1,
   "metadata": {},
   "outputs": [
    {
     "name": "stderr",
     "output_type": "stream",
     "text": [
      "..............\n",
      "----------------------------------------------------------------------\n",
      "Ran 14 tests in 0.023s\n",
      "\n",
      "OK\n"
     ]
    }
   ],
   "source": [
    "%run protein_translation_test.py"
   ]
  },
  {
   "cell_type": "code",
   "execution_count": null,
   "metadata": {},
   "outputs": [],
   "source": []
  }
 ],
 "metadata": {
  "kernelspec": {
   "display_name": "Python 3",
   "language": "python",
   "name": "python3"
  },
  "language_info": {
   "codemirror_mode": {
    "name": "ipython",
    "version": 3
   },
   "file_extension": ".py",
   "mimetype": "text/x-python",
   "name": "python",
   "nbconvert_exporter": "python",
   "pygments_lexer": "ipython3",
   "version": "3.7.2"
  }
 },
 "nbformat": 4,
 "nbformat_minor": 2
}
