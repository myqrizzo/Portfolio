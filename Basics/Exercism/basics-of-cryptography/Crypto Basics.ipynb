{
 "cells": [
  {
   "cell_type": "code",
   "execution_count": null,
   "metadata": {},
   "outputs": [],
   "source": [
    "#symmetric encryption"
   ]
  },
  {
   "cell_type": "code",
   "execution_count": 69,
   "metadata": {},
   "outputs": [],
   "source": [
    "from Crypto.Cipher import AES\n",
    "import base64\n",
    "\n",
    "key = b'ABCDEFGHIJ123456'\n",
    "iv = b'1234567890ZYXWVU'\n",
    "\n",
    "cipher = AES.new(key, AES.MODE_CFB, iv)\n",
    "data = b'hello world'\n",
    "msg = base64.b64encode(cipher.encrypt(data))"
   ]
  },
  {
   "cell_type": "code",
   "execution_count": 70,
   "metadata": {},
   "outputs": [
    {
     "name": "stdout",
     "output_type": "stream",
     "text": [
      "Encryption was:  b'dF0FWQ37aFtdttU='\n",
      "Original Message was:  b'hello world'\n"
     ]
    }
   ],
   "source": [
    "msg_decoded = base64.b64decode(msg)\n",
    "d_cipher = AES.new(key, AES.MODE_CFB, iv)\n",
    "d_data = d_cipher.decrypt(msg_decoded)\n",
    "\n",
    "print(\"Encryption was: \", msg)\n",
    "print(\"Original Message was: \", d_data)"
   ]
  },
  {
   "cell_type": "code",
   "execution_count": 71,
   "metadata": {},
   "outputs": [],
   "source": [
    "#asymmetric encryption"
   ]
  },
  {
   "cell_type": "code",
   "execution_count": 126,
   "metadata": {},
   "outputs": [],
   "source": [
    "from Crypto.PublicKey import RSA\n",
    "from Crypto.Cipher import PKCS1_OAEP\n",
    "import ast\n",
    "\n",
    "key = RSA.generate(2048)"
   ]
  },
  {
   "cell_type": "code",
   "execution_count": 127,
   "metadata": {},
   "outputs": [],
   "source": [
    "#First encrypt public key, then send\n",
    "f = open('mykey.pem','wb')\n",
    "f.write(key.exportKey('OpenSSH'))\n",
    "f.close()"
   ]
  },
  {
   "cell_type": "code",
   "execution_count": 132,
   "metadata": {},
   "outputs": [
    {
     "name": "stdout",
     "output_type": "stream",
     "text": [
      "encrypted message: b'I\\xa4]0\\xac\\xf7O\\xf1\\x05J{\\xb6=\\x12-\\xfbV^j\\x10>\\t\\x87\\x83\\x91\\x8c\\x03\\x9b\\xd1\"\\xcb\\xb3\\xe5%\\xc0\\xbc\\'K=\\x82\\x1a\\xa0\\x8c44S\\x0b\\x89\\xc4_p\\xbf\\xbc0\\xa7z\\x81\\xbf\\xe4\\xd4\\xef\\x02\\xafq72\\x9f}J\\xaf`\\x1c\\xb9)\\x0f\\x0e\\xb6\\xd3q\\x14\\x11nk\\x9d\\xe7x\\x932\\x19\\x99\\xa3\\x0b,n7\\x0c^\\x16\\xbc\\xb3\\x84\\xacG-\\xef\\xebR%\\xee\\xcc\\x04\\x15uY\\xb2\\x82-\\x80\\xe26\\x11\\x04\\xec\\xdf`2\\xb1E,\\xd4C\\xaa\\xf2\\xb6T\\x925\\xb6\\x0fn\\x17-\\xe5\\xc8\\x19\\xea\\xa7\\xe3\\x9a\\x18\\xb4\\xdcQ\\xe9:\\x17`\\x19\\xa6\\xfa\\xba\\x8a4V\\xa8Nc\\x84a\\xaa\\xe4\\xd32h+\\x0c\\xe9\\x03KG\\xdb\\xfa\\xb2\\xca9\\xa9\\x08p\\x80\\xa4$\\x04\\xa9\\xd0\\xa679@J\\xbe\\xd5!&\\xf7\\xad\\xe8k\\xbd\\xf4\\xf6\\x86\\xe6\\xed\\x06\\xb3\\xa4\\xa8\\x186\\xc9bB\\xae\\xe1\\xc6g\\xe7\\x0fk\\x05\\x02CU\\xf45\\xf1\\xab\\x1a\\xa0m\\x1aI\\xae\\x0b\\xef\\xe8\\n\\xb1by\\x8cy\\x17\\x8e\\xa8\\xa1'\n"
     ]
    }
   ],
   "source": [
    "#Using received public key encrypt a message \n",
    "f = open('mykey.pem', 'r')\n",
    "clientkey = RSA.importKey(f.read())\n",
    "\n",
    "encryptor = PKCS1_OAEP.new(clientkey)\n",
    "encrypted = encryptor.encrypt(b'hello python')\n",
    "print('encrypted message:', encrypted)\n",
    "\n",
    "#Send back for decryption\n",
    "f = open('encryption.txt', 'w')\n",
    "f.write(str(encrypted))\n",
    "f.close()"
   ]
  },
  {
   "cell_type": "code",
   "execution_count": 133,
   "metadata": {},
   "outputs": [
    {
     "name": "stdout",
     "output_type": "stream",
     "text": [
      "decrypted b'hello python'\n"
     ]
    }
   ],
   "source": [
    "#Use received encrypted message, and private key to decrypt\n",
    "f = open('encryption.txt', 'r')\n",
    "message = f.read()\n",
    "\n",
    "decryptor = PKCS1_OAEP.new(key)\n",
    "decrypted = decryptor.decrypt(ast.literal_eval(str(encrypted)))\n",
    "\n",
    "print('decrypted', decrypted)"
   ]
  },
  {
   "cell_type": "code",
   "execution_count": null,
   "metadata": {},
   "outputs": [],
   "source": []
  }
 ],
 "metadata": {
  "kernelspec": {
   "display_name": "Python 3",
   "language": "python",
   "name": "python3"
  }
 },
 "nbformat": 4,
 "nbformat_minor": 2
}
